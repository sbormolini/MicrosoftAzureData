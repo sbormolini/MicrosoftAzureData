{
 "cells": [
  {
   "cell_type": "code",
   "execution_count": null,
   "metadata": {},
   "outputs": [],
   "source": [
    "#%pip install azure.identity\n",
    "#%pip install azure.storage.blob"
   ]
  },
  {
   "cell_type": "code",
   "execution_count": null,
   "metadata": {},
   "outputs": [],
   "source": [
    "from azure.identity import ClientSecretCredential\n",
    "from azure.storage.blob import BlobServiceClient, ContentSettings\n",
    "import re"
   ]
  },
  {
   "cell_type": "code",
   "execution_count": null,
   "metadata": {},
   "outputs": [],
   "source": [
    "tenant_id = \"<tenantId>\"\n",
    "client_id = \"<clientId>\"\n",
    "client_secret = dbutils.secrets.get(scope=\"<databricksSecretScope>\",key=\"<secretKey>\")\n",
    "storageaccount_name = \"<storageAccountName>\"\n",
    "container_name = \"output\""
   ]
  },
  {
   "cell_type": "code",
   "execution_count": null,
   "metadata": {},
   "outputs": [],
   "source": [
    "# Get a token credential for authentication\n",
    "token_credential = ClientSecretCredential(\n",
    "    tenant_id,\n",
    "    client_id,\n",
    "    client_secret\n",
    ")"
   ]
  },
  {
   "cell_type": "code",
   "execution_count": null,
   "metadata": {},
   "outputs": [],
   "source": [
    "# Instantiate a BlobServiceClient using a token credential\n",
    "blob_service_client = BlobServiceClient(account_url=f\"https://{storageaccount_name}.blob.core.windows.net\", credential=token_credential)"
   ]
  },
  {
   "cell_type": "code",
   "execution_count": null,
   "metadata": {},
   "outputs": [],
   "source": [
    "# Instantiate a ContainerClient\n",
    "container_client = blob_service_client.get_container_client(container_name)"
   ]
  },
  {
   "cell_type": "code",
   "execution_count": null,
   "metadata": {},
   "outputs": [],
   "source": [
    "# List files in blob folder\n",
    "blobs_list = container_client.list_blobs()\n",
    "for blob in blobs_list:\n",
    "    blob_client = blob_service_client.get_blob_client(container_name, blob)\n",
    "    if re.match(r\"^.*\\.html$\", blob.name):   \n",
    "        blob_client.set_http_headers(\n",
    "            content_settings = ContentSettings(\n",
    "                content_type = \"text/html\"\n",
    "            )\n",
    "        )"
   ]
  }
 ],
 "metadata": {
  "language_info": {
   "name": "python"
  },
  "orig_nbformat": 4
 },
 "nbformat": 4,
 "nbformat_minor": 2
}
