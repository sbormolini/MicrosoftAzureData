{
 "cells": [
  {
   "cell_type": "code",
   "execution_count": null,
   "metadata": {},
   "outputs": [],
   "source": [
    "# requires spark-mssql-connector_2.12-1.2.0.jar\n",
    "import adal"
   ]
  },
  {
   "cell_type": "code",
   "execution_count": null,
   "metadata": {},
   "outputs": [],
   "source": [
    "# authentication info\n",
    "resource_app_id_url = \"https://database.windows.net/\"\n",
    "service_principal_id = \"<client-id>\"\n",
    "service_principal_secret = dbutils.secrets.get(scope=\"<databricks-secret-scope>\",key=\"<client-secret>\")\n",
    "tenant_id = \"<tenant-id>\"\n",
    "authority = \"https://login.windows.net/\" + tenant_id"
   ]
  },
  {
   "cell_type": "code",
   "execution_count": null,
   "metadata": {},
   "outputs": [],
   "source": [
    "# sql server info\n",
    "azure_sql_url = \"jdbc:sqlserver://<azure-sql-server-name>.database.windows.net\"\n",
    "database_name = \"<database-name>\"\n",
    "db_table = \"<table-name>\" \n",
    "db_table_sink = \"<table-name>\"\n",
    "encrypt = \"true\"\n",
    "host_name_in_certificate = \"*.database.windows.net\""
   ]
  },
  {
   "cell_type": "code",
   "execution_count": null,
   "metadata": {},
   "outputs": [],
   "source": [
    "# get token\n",
    "context = adal.AuthenticationContext(authority)\n",
    "token = context.acquire_token_with_client_credentials(resource_app_id_url, service_principal_id, service_principal_secret)\n",
    "access_token = token[\"accessToken\"]"
   ]
  },
  {
   "cell_type": "code",
   "execution_count": null,
   "metadata": {},
   "outputs": [],
   "source": [
    "# read data\n",
    "addressDf = spark.read \\\n",
    "             .format(\"com.microsoft.sqlserver.jdbc.spark\") \\\n",
    "             .option(\"url\", azure_sql_url) \\\n",
    "             .option(\"dbtable\", db_table) \\\n",
    "             .option(\"databaseName\", database_name) \\\n",
    "             .option(\"accessToken\", access_token) \\\n",
    "             .option(\"encrypt\", \"true\") \\\n",
    "             .option(\"hostNameInCertificate\", \"*.database.windows.net\") \\\n",
    "             .load()\n",
    "\n",
    "# show data\n",
    "display(addressDf)"
   ]
  },
  {
   "cell_type": "code",
   "execution_count": null,
   "metadata": {},
   "outputs": [],
   "source": [
    "# transform (just stupid showcase)\n",
    "forcastDf = addressDf[\"AddressID\", \"PostalCode\"]\n",
    "forcastDf = forcastDf.withColumnRenamed('AddressID', 'SalesOrderID')\n",
    "forcastDf = forcastDf.withColumnRenamed('PostalCode', 'Forcast')\n",
    "display(forcastDf)"
   ]
  },
  {
   "cell_type": "code",
   "execution_count": null,
   "metadata": {},
   "outputs": [],
   "source": [
    "# write forcast\n",
    "try:\n",
    "    forcastDf.write \\\n",
    "        .format(\"com.microsoft.sqlserver.jdbc.spark\") \\\n",
    "        .mode(\"append\") \\\n",
    "        .option(\"url\", azure_sql_url) \\\n",
    "        .option(\"databaseName\", database_name) \\\n",
    "        .option(\"dbtable\", db_table_sink) \\\n",
    "        .option(\"accessToken\", access_token) \\\n",
    "        .option(\"encrypt\", \"true\") \\\n",
    "        .option(\"hostNameInCertificate\", \"*.database.windows.net\") \\\n",
    "        .save()\n",
    "except ValueError as error :\n",
    "    print(\"Connector write failed\", error)"
   ]
  }
 ],
 "metadata": {
  "language_info": {
   "name": "python"
  },
  "orig_nbformat": 4
 },
 "nbformat": 4,
 "nbformat_minor": 2
}
