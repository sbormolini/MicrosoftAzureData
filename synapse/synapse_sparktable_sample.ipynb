{
 "cells": [
  {
   "cell_type": "code",
   "execution_count": null,
   "metadata": {},
   "outputs": [],
   "source": [
    "datalake = 'REPLACE_WITH_YOUR_DATALAKE_NAME'\n",
    "data_path = spark.read.load('abfss://wwi-02@' + datalake + '.dfs.core.windows.net/online-user-profiles-02/*.json', multiLine=True)\n",
    "display(data_path.limit(10))"
   ]
  },
  {
   "cell_type": "markdown",
   "metadata": {},
   "source": [
    "The Apache Spark engine can analyze the Parquet files and infer the schema. To do this analysis, enter the below code in the new cell and run it:"
   ]
  },
  {
   "cell_type": "code",
   "execution_count": null,
   "metadata": {},
   "outputs": [],
   "source": [
    "data_path.printSchema()"
   ]
  },
  {
   "cell_type": "markdown",
   "metadata": {},
   "source": [
    "Your output should look as follows:\n",
    "\n",
    "root\n",
    "    |-- TransactionId: string (nullable = true)\n",
    "    |-- CustomerId: integer (nullable = true)\n",
    "    |-- ProductId: short (nullable = true)\n",
    "    |-- Quantity: short (nullable = true)\n",
    "    |-- Price: decimal(29,2) (nullable = true)\n",
    "    |-- TotalAmount: decimal(29,2) (nullable = true)\n",
    "    |-- TransactionDate: integer (nullable = true)\n",
    "    |-- ProfitAmount: decimal(29,2) (nullable = true)\n",
    "    |-- Hour: byte (nullable = true)\n",
    "    |-- Minute: byte (nullable = true)\n",
    "    |-- StoreId: short (nullable = true)"
   ]
  },
  {
   "cell_type": "code",
   "execution_count": null,
   "metadata": {},
   "outputs": [],
   "source": [
    "from pyspark.sql import SparkSession\n",
    "from pyspark.sql.types import *\n",
    "from pyspark.sql.functions import *\n",
    "\n",
    "profitByDateProduct = (data_path.groupBy(\"TransactionDate\",\"ProductId\")\n",
    "    .agg(\n",
    "        sum(\"ProfitAmount\").alias(\"(sum)ProfitAmount\"),\n",
    "        round(avg(\"Quantity\"), 4).alias(\"(avg)Quantity\"),\n",
    "        sum(\"Quantity\").alias(\"(sum)Quantity\"))\n",
    "    .orderBy(\"TransactionDate\"))\n",
    "display(profitByDateProduct.limit(100))"
   ]
  }
 ],
 "metadata": {
  "language_info": {
   "name": "python"
  },
  "orig_nbformat": 4
 },
 "nbformat": 4,
 "nbformat_minor": 2
}
